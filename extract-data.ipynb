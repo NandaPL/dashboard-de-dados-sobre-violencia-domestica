{
 "cells": [
  {
   "cell_type": "code",
   "execution_count": 1,
   "metadata": {},
   "outputs": [],
   "source": [
    "# Importando bibliotecas\n",
    "import tweepy as tw\n",
    "import pandas as pd"
   ]
  },
  {
   "cell_type": "code",
   "execution_count": 2,
   "metadata": {},
   "outputs": [],
   "source": [
    "with open('./dados/tokens-twitter.txt', 'r') as tfile:\n",
    "    consumer_key = tfile.readline().strip('\\n')\n",
    "    consumer_secret = tfile.readline().strip('\\n')\n",
    "    access_token = tfile.readline().strip('\\n')\n",
    "    token_secret = tfile.readline().strip('\\n')"
   ]
  },
  {
   "cell_type": "code",
   "execution_count": 3,
   "metadata": {},
   "outputs": [],
   "source": [
    "# Autenticando chaves e tokens da API do Twitter\n",
    "auth = tw.OAuthHandler(consumer_key, consumer_secret)\n",
    "auth.set_access_token(access_token, token_secret)\n",
    "\n",
    "api = tw.API(auth)\n",
    "\n",
    "public_tweets = api.home_timeline()"
   ]
  },
  {
   "cell_type": "code",
   "execution_count": 4,
   "metadata": {},
   "outputs": [
    {
     "name": "stdout",
     "output_type": "stream",
     "text": [
      "Aqui está a justificativa do Senador Rogério para o voto \"SIM\" que deu ontem para o BOLSOLÃO.\n",
      "\n",
      "Senador, desculpe, m… https://t.co/EuR22yLVmx\n",
      "socorro KKKKKKKK https://t.co/3r2UspECo2\n",
      "Passando pra lembrar que É HOJE o dia de celebrar o sucesso do maior atraco do mundo. Junte-se ao bando na transmis… https://t.co/70bsjk4dvA\n",
      "eu gosto tanto de Avatar a lenda de Aang :ccc vou fazer o dudu assistir só pra usar como desculpa pra assistir dnv\n",
      "ventosa no pé, q delícia\n",
      "a live de hoje já ta online, cola com nois que o proceder é certo\n",
      "\n",
      "https://t.co/HXMzM1TIRK https://t.co/8abc6JlYbb\n",
      "queria jogar uma sinuquinha 😔\n",
      "eae eu sou o guaguazinho e vc?\n",
      "rubens protector ate o fim graças a deus https://t.co/orBp6eE87P\n",
      "SE LIGA HEIN, não dá pra esquecer dessas aqui que também chegam ano que vem:\n",
      "\n",
      "- The Umbrella Academy: T3\n",
      "- Stranger… https://t.co/XvfE3Tb4Za\n",
      "E, finalmente, Vikings: Valhalla tem uma data de estreia: dia 25 de fevereiro.\n",
      "\n",
      "A história se passa 100 anos depois… https://t.co/5O8Kofg00i\n",
      "@vanessadcamara Velho gostoso\n",
      "SIMPÓSIO CORONAVAC: o gerente de parcerias e novos negócios do Butantan, Tiago Rocca, explica como a experiência do… https://t.co/OrtimvvZ8J\n",
      "Sandman, Sandman, Sandman, Sandman, Sandman... SANDMAN. Ano que vem, por favor, vem logo.👇👇 https://t.co/B0XGjZ7DTu\n",
      "E essa aqui vai macetar demais. Depois de 3 décadas desde o descobrimento do T-Vírus, ainda existem segredos da Coo… https://t.co/jhjv8PZ0Ob\n",
      "Criando Dion também voltará para uma segunda temporada em 2022.\n",
      "\n",
      "A série sobre uma mãe lidando com seu filho super… https://t.co/ejqB4OirLj\n",
      "Meus lançamentos de terror não estariam completos sem uma série de Mike Flanagan e Trevor Macy.\n",
      "\n",
      "Baseada no livro d… https://t.co/LPkYz70xem\n"
     ]
    }
   ],
   "source": [
    "for tweet in public_tweets:\n",
    "    print(tweet.text)"
   ]
  },
  {
   "cell_type": "code",
   "execution_count": 5,
   "metadata": {},
   "outputs": [
    {
     "data": {
      "text/plain": [
       "{'created_at': 'Tue Nov 30 17:42:47 +0000 2021',\n",
       " 'id': 1465738090106994703,\n",
       " 'id_str': '1465738090106994703',\n",
       " 'text': 'Meus lançamentos de terror não estariam completos sem uma série de Mike Flanagan e Trevor Macy.\\n\\nBaseada no livro d… https://t.co/LPkYz70xem',\n",
       " 'truncated': True,\n",
       " 'entities': {'hashtags': [],\n",
       "  'symbols': [],\n",
       "  'user_mentions': [],\n",
       "  'urls': [{'url': 'https://t.co/LPkYz70xem',\n",
       "    'expanded_url': 'https://twitter.com/i/web/status/1465738090106994703',\n",
       "    'display_url': 'twitter.com/i/web/status/1…',\n",
       "    'indices': [117, 140]}]},\n",
       " 'source': '<a href=\"https://mobile.twitter.com\" rel=\"nofollow\">Twitter Web App</a>',\n",
       " 'in_reply_to_status_id': 1465738087590469633,\n",
       " 'in_reply_to_status_id_str': '1465738087590469633',\n",
       " 'in_reply_to_user_id': 231579149,\n",
       " 'in_reply_to_user_id_str': '231579149',\n",
       " 'in_reply_to_screen_name': 'NetflixBrasil',\n",
       " 'user': {'id': 231579149,\n",
       "  'id_str': '231579149',\n",
       "  'name': 'netflixbrasil',\n",
       "  'screen_name': 'NetflixBrasil',\n",
       "  'location': 'Brasil',\n",
       "  'description': 'As figurinhas de #Arcane vieram de Piltover pro meu ZapFlix. Link na Bio 👇',\n",
       "  'url': 'https://t.co/zukrimobZ9',\n",
       "  'entities': {'url': {'urls': [{'url': 'https://t.co/zukrimobZ9',\n",
       "      'expanded_url': 'https://bit.ly/30Tfpvb',\n",
       "      'display_url': 'bit.ly/30Tfpvb',\n",
       "      'indices': [0, 23]}]},\n",
       "   'description': {'urls': []}},\n",
       "  'protected': False,\n",
       "  'followers_count': 16058872,\n",
       "  'friends_count': 338,\n",
       "  'listed_count': 3232,\n",
       "  'created_at': 'Tue Dec 28 22:43:40 +0000 2010',\n",
       "  'favourites_count': 10979,\n",
       "  'utc_offset': None,\n",
       "  'time_zone': None,\n",
       "  'geo_enabled': True,\n",
       "  'verified': True,\n",
       "  'statuses_count': 65364,\n",
       "  'lang': None,\n",
       "  'contributors_enabled': False,\n",
       "  'is_translator': False,\n",
       "  'is_translation_enabled': False,\n",
       "  'profile_background_color': '000000',\n",
       "  'profile_background_image_url': 'http://abs.twimg.com/images/themes/theme1/bg.png',\n",
       "  'profile_background_image_url_https': 'https://abs.twimg.com/images/themes/theme1/bg.png',\n",
       "  'profile_background_tile': True,\n",
       "  'profile_image_url': 'http://pbs.twimg.com/profile_images/1462058322232844295/DTv7M8lC_normal.jpg',\n",
       "  'profile_image_url_https': 'https://pbs.twimg.com/profile_images/1462058322232844295/DTv7M8lC_normal.jpg',\n",
       "  'profile_banner_url': 'https://pbs.twimg.com/profile_banners/231579149/1637408922',\n",
       "  'profile_link_color': '0084B4',\n",
       "  'profile_sidebar_border_color': 'FFFFFF',\n",
       "  'profile_sidebar_fill_color': 'DDEEF6',\n",
       "  'profile_text_color': '333333',\n",
       "  'profile_use_background_image': True,\n",
       "  'has_extended_profile': False,\n",
       "  'default_profile': False,\n",
       "  'default_profile_image': False,\n",
       "  'following': True,\n",
       "  'follow_request_sent': False,\n",
       "  'notifications': False,\n",
       "  'translator_type': 'none',\n",
       "  'withheld_in_countries': []},\n",
       " 'geo': None,\n",
       " 'coordinates': None,\n",
       " 'place': None,\n",
       " 'contributors': None,\n",
       " 'is_quote_status': False,\n",
       " 'retweet_count': 8,\n",
       " 'favorite_count': 255,\n",
       " 'favorited': False,\n",
       " 'retweeted': False,\n",
       " 'lang': 'pt'}"
      ]
     },
     "execution_count": 5,
     "metadata": {},
     "output_type": "execute_result"
    }
   ],
   "source": [
    "#tweet._json"
   ]
  },
  {
   "cell_type": "code",
   "execution_count": 6,
   "metadata": {},
   "outputs": [],
   "source": [
    "query_search = 'violencia domestica OR feminicido OR assedio' + '-filter:retweets'\n",
    "num_tweets = 10"
   ]
  },
  {
   "cell_type": "code",
   "execution_count": 7,
   "metadata": {},
   "outputs": [],
   "source": [
    "search_results = tw.Cursor(api.search_tweets, \n",
    "                               q=query_search, lang='pt').items(num_tweets)"
   ]
  },
  {
   "cell_type": "code",
   "execution_count": 8,
   "metadata": {},
   "outputs": [
    {
     "name": "stdout",
     "output_type": "stream",
     "text": [
      "2021-11-30 19:02:11+00:00\n",
      "@wanmarcal 3. como um filho vai ser bem educado se essa mãe sofreu com a violência doméstica e sua mãe (avó do meni… https://t.co/AvHSXnpXGY\n",
      "2021-11-30 18:58:18+00:00\n",
      "Sepideh comentário no IG stories - parte 1:\n",
      "\n",
      "\"Eu também estou em parceria com @tahirihjustice \n",
      "\n",
      "Uma organização sem… https://t.co/SwyTcDz2u7\n",
      "2021-11-30 18:55:47+00:00\n",
      "@SwanDangerous @jcbaia @vih8p @omelete Ela falando que a vida dela foi moldada por ser mulher pq sofreu machismo, m… https://t.co/O9zQURYnlD\n",
      "2021-11-30 18:54:35+00:00\n",
      "#Penafiel Entidades regionais debateram em Penafiel o combate à violência doméstica https://t.co/0FGM0x6mSa https://t.co/NtUcjQKS2A\n",
      "2021-11-30 18:47:25+00:00\n",
      "No passado dia 25 de novembro, celebramos o Dia Internacional para a Eliminação da Violência contra mulher, mas hoj… https://t.co/stgCAS7qOP\n",
      "2021-11-30 18:41:19+00:00\n",
      "@ojeconomico Acredito que a lei deveria ser feita para proteger a violência doméstica mulheres ou homens pais ou fi… https://t.co/A2NCe2akGc\n",
      "2021-11-30 18:38:24+00:00\n",
      "@DamaresAlves Os homens nesse governo são tratados pior do que lixo.\n",
      " Não vi a mamãe Dada falar um aí do Novembro a… https://t.co/LJCalk2EWd\n",
      "2021-11-30 18:30:54+00:00\n",
      "Condomínios de SP são obrigados a denunciar violência doméstica - https://t.co/SbWQIdIbm7 https://t.co/LIZ166mbpw\n",
      "2021-11-30 18:22:02+00:00\n",
      "Os e-mails quase são a melhor parte de audiências virtuais. O n1 fica com a testemunha correndo atrás do réu com ce… https://t.co/uzJgfESawN\n",
      "2021-11-30 18:15:21+00:00\n",
      "1. Você sabia que o Senado reserva 2% das vagas nos contratos de terceirização para mulheres que sofreram violência… https://t.co/RY1Klg5QLi\n"
     ]
    }
   ],
   "source": [
    "for tweet in search_results:\n",
    "    print(tweet.created_at)\n",
    "    print(tweet.text)"
   ]
  },
  {
   "cell_type": "code",
   "execution_count": null,
   "metadata": {},
   "outputs": [],
   "source": []
  }
 ],
 "metadata": {
  "kernelspec": {
   "display_name": "Python 3",
   "language": "python",
   "name": "python3"
  },
  "language_info": {
   "codemirror_mode": {
    "name": "ipython",
    "version": 3
   },
   "file_extension": ".py",
   "mimetype": "text/x-python",
   "name": "python",
   "nbconvert_exporter": "python",
   "pygments_lexer": "ipython3",
   "version": "3.7.3"
  }
 },
 "nbformat": 4,
 "nbformat_minor": 2
}
