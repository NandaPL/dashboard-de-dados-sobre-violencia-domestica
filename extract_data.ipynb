{
 "cells": [
  {
   "cell_type": "code",
   "execution_count": 1,
   "metadata": {},
   "outputs": [],
   "source": [
    "# Importando bibliotecas\n",
    "import tweepy as tw\n",
    "import json\n",
    "import sys\n",
    "sys.path.append(\"lib\")\n",
    "import databaseinsert"
   ]
  },
  {
   "cell_type": "code",
   "execution_count": 2,
   "metadata": {},
   "outputs": [],
   "source": [
    "with open('./access/tokens-twitter.txt', 'r') as tfile:\n",
    "    consumer_key = tfile.readline().strip('\\n')\n",
    "    consumer_secret = tfile.readline().strip('\\n')\n",
    "    access_token = tfile.readline().strip('\\n')\n",
    "    token_secret = tfile.readline().strip('\\n')"
   ]
  },
  {
   "cell_type": "code",
   "execution_count": 3,
   "metadata": {},
   "outputs": [],
   "source": [
    "# Autenticando chaves e tokens da API do Twitter\n",
    "auth = tw.OAuthHandler(consumer_key, consumer_secret)\n",
    "auth.set_access_token(access_token, token_secret)\n",
    "\n",
    "api = tw.API(auth)"
   ]
  },
  {
   "cell_type": "code",
   "execution_count": 4,
   "metadata": {},
   "outputs": [],
   "source": [
    "query_search = \"violência domestica OR feminicidio OR assedio\" + \"-filter:retweets\"\n",
    "search = tw.Cursor(api.search_tweets, q=query_search, tweet_mode='extended', result_type='mixed', lang = 'pt').items(30)"
   ]
  },
  {
   "cell_type": "code",
   "execution_count": 5,
   "metadata": {},
   "outputs": [],
   "source": [
    "databaseinsert.connect_firebase()\n",
    "\n",
    "def firebase_connection_save():\n",
    "\n",
    "    for tweets in search:\n",
    "    \n",
    "        with open('./datas/tweet.json', \"a+\") as output:\n",
    "            created_at = f'{tweets.created_at}'\n",
    "            tweet = f'{tweets.full_text}'\n",
    "            screen_name = f'{tweets.user.screen_name}'\n",
    "            likes = f'{tweets.favorite_count}'\n",
    "\n",
    "            data = {\"created_at\": created_at,\n",
    "                \"screen_name\": screen_name,\n",
    "                \"tweet\": tweet,\n",
    "                \"likes_count\": likes\n",
    "            }\n",
    "            name = data['screen_name']\n",
    "            databaseinsert.insert_data(data, 'Tweets_Crus', name) \n",
    "\n",
    "            output.write(\"{}\\n\".format(json.dumps(data)))\n",
    "\n",
    "firebase_connection_save()"
   ]
  }
 ],
 "metadata": {
  "kernelspec": {
   "display_name": "Python 3",
   "language": "python",
   "name": "python3"
  },
  "language_info": {
   "codemirror_mode": {
    "name": "ipython",
    "version": 3
   },
   "file_extension": ".py",
   "mimetype": "text/x-python",
   "name": "python",
   "nbconvert_exporter": "python",
   "pygments_lexer": "ipython3",
   "version": "3.7.3"
  }
 },
 "nbformat": 4,
 "nbformat_minor": 2
}
